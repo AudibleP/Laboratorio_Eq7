{
 "cells": [
  {
   "cell_type": "code",
   "execution_count": 1,
   "id": "edda9e91",
   "metadata": {
    "scrolled": false
   },
   "outputs": [
    {
     "data": {
      "text/html": [
       "<div>\n",
       "<style scoped>\n",
       "    .dataframe tbody tr th:only-of-type {\n",
       "        vertical-align: middle;\n",
       "    }\n",
       "\n",
       "    .dataframe tbody tr th {\n",
       "        vertical-align: top;\n",
       "    }\n",
       "\n",
       "    .dataframe thead th {\n",
       "        text-align: right;\n",
       "    }\n",
       "</style>\n",
       "<table border=\"1\" class=\"dataframe\">\n",
       "  <thead>\n",
       "    <tr style=\"text-align: right;\">\n",
       "      <th></th>\n",
       "      <th>Month_Year</th>\n",
       "      <th>Avg_players</th>\n",
       "      <th>Gain</th>\n",
       "      <th>Percent_Gain</th>\n",
       "      <th>Peak_Players</th>\n",
       "      <th>URL</th>\n",
       "      <th>Date</th>\n",
       "      <th>Game_Name</th>\n",
       "    </tr>\n",
       "  </thead>\n",
       "  <tbody>\n",
       "    <tr>\n",
       "      <th>0</th>\n",
       "      <td>September 2021</td>\n",
       "      <td>512350.92</td>\n",
       "      <td>268.96</td>\n",
       "      <td>+0.05%</td>\n",
       "      <td>942519</td>\n",
       "      <td>https://steamcharts.com/app/730</td>\n",
       "      <td>2021-09-01</td>\n",
       "      <td>Counter Strike: Global Offensive</td>\n",
       "    </tr>\n",
       "    <tr>\n",
       "      <th>1</th>\n",
       "      <td>August 2021</td>\n",
       "      <td>512081.96</td>\n",
       "      <td>6014.60</td>\n",
       "      <td>+1.19%</td>\n",
       "      <td>802544</td>\n",
       "      <td>https://steamcharts.com/app/730</td>\n",
       "      <td>2021-08-01</td>\n",
       "      <td>Counter Strike: Global Offensive</td>\n",
       "    </tr>\n",
       "    <tr>\n",
       "      <th>2</th>\n",
       "      <td>July 2021</td>\n",
       "      <td>506067.36</td>\n",
       "      <td>-43279.72</td>\n",
       "      <td>-7.88%</td>\n",
       "      <td>763523</td>\n",
       "      <td>https://steamcharts.com/app/730</td>\n",
       "      <td>2021-07-01</td>\n",
       "      <td>Counter Strike: Global Offensive</td>\n",
       "    </tr>\n",
       "    <tr>\n",
       "      <th>3</th>\n",
       "      <td>June 2021</td>\n",
       "      <td>549347.08</td>\n",
       "      <td>-110541.81</td>\n",
       "      <td>-16.75%</td>\n",
       "      <td>929940</td>\n",
       "      <td>https://steamcharts.com/app/730</td>\n",
       "      <td>2021-06-01</td>\n",
       "      <td>Counter Strike: Global Offensive</td>\n",
       "    </tr>\n",
       "    <tr>\n",
       "      <th>4</th>\n",
       "      <td>May 2021</td>\n",
       "      <td>659888.89</td>\n",
       "      <td>-63457.63</td>\n",
       "      <td>-8.77%</td>\n",
       "      <td>1087197</td>\n",
       "      <td>https://steamcharts.com/app/730</td>\n",
       "      <td>2021-05-01</td>\n",
       "      <td>Counter Strike: Global Offensive</td>\n",
       "    </tr>\n",
       "    <tr>\n",
       "      <th>...</th>\n",
       "      <td>...</td>\n",
       "      <td>...</td>\n",
       "      <td>...</td>\n",
       "      <td>...</td>\n",
       "      <td>...</td>\n",
       "      <td>...</td>\n",
       "      <td>...</td>\n",
       "      <td>...</td>\n",
       "    </tr>\n",
       "    <tr>\n",
       "      <th>5266</th>\n",
       "      <td>December 2016</td>\n",
       "      <td>192.03</td>\n",
       "      <td>-21.90</td>\n",
       "      <td>-10.24%</td>\n",
       "      <td>405</td>\n",
       "      <td>https://steamcharts.com/app/435150</td>\n",
       "      <td>2016-12-01</td>\n",
       "      <td>Divinity: Original Sin 2</td>\n",
       "    </tr>\n",
       "    <tr>\n",
       "      <th>5267</th>\n",
       "      <td>November 2016</td>\n",
       "      <td>213.92</td>\n",
       "      <td>-134.68</td>\n",
       "      <td>-38.63%</td>\n",
       "      <td>537</td>\n",
       "      <td>https://steamcharts.com/app/435150</td>\n",
       "      <td>2016-11-01</td>\n",
       "      <td>Divinity: Original Sin 2</td>\n",
       "    </tr>\n",
       "    <tr>\n",
       "      <th>5268</th>\n",
       "      <td>October 2016</td>\n",
       "      <td>348.60</td>\n",
       "      <td>-201.75</td>\n",
       "      <td>-36.66%</td>\n",
       "      <td>1031</td>\n",
       "      <td>https://steamcharts.com/app/435150</td>\n",
       "      <td>2016-10-01</td>\n",
       "      <td>Divinity: Original Sin 2</td>\n",
       "    </tr>\n",
       "    <tr>\n",
       "      <th>5269</th>\n",
       "      <td>September 2016</td>\n",
       "      <td>550.36</td>\n",
       "      <td>543.26</td>\n",
       "      <td>+7654.89%</td>\n",
       "      <td>2836</td>\n",
       "      <td>https://steamcharts.com/app/435150</td>\n",
       "      <td>2016-09-01</td>\n",
       "      <td>Divinity: Original Sin 2</td>\n",
       "    </tr>\n",
       "    <tr>\n",
       "      <th>5270</th>\n",
       "      <td>August 2016</td>\n",
       "      <td>7.10</td>\n",
       "      <td>NaN</td>\n",
       "      <td>NaN</td>\n",
       "      <td>18</td>\n",
       "      <td>https://steamcharts.com/app/435150</td>\n",
       "      <td>2016-08-01</td>\n",
       "      <td>Divinity: Original Sin 2</td>\n",
       "    </tr>\n",
       "  </tbody>\n",
       "</table>\n",
       "<p>5271 rows × 8 columns</p>\n",
       "</div>"
      ],
      "text/plain": [
       "          Month_Year  Avg_players       Gain Percent_Gain  Peak_Players  \\\n",
       "0     September 2021    512350.92     268.96       +0.05%        942519   \n",
       "1        August 2021    512081.96    6014.60       +1.19%        802544   \n",
       "2          July 2021    506067.36  -43279.72       -7.88%        763523   \n",
       "3          June 2021    549347.08 -110541.81      -16.75%        929940   \n",
       "4           May 2021    659888.89  -63457.63       -8.77%       1087197   \n",
       "...              ...          ...        ...          ...           ...   \n",
       "5266   December 2016       192.03     -21.90      -10.24%           405   \n",
       "5267   November 2016       213.92    -134.68      -38.63%           537   \n",
       "5268    October 2016       348.60    -201.75      -36.66%          1031   \n",
       "5269  September 2016       550.36     543.26    +7654.89%          2836   \n",
       "5270     August 2016         7.10        NaN          NaN            18   \n",
       "\n",
       "                                     URL        Date  \\\n",
       "0        https://steamcharts.com/app/730  2021-09-01   \n",
       "1        https://steamcharts.com/app/730  2021-08-01   \n",
       "2        https://steamcharts.com/app/730  2021-07-01   \n",
       "3        https://steamcharts.com/app/730  2021-06-01   \n",
       "4        https://steamcharts.com/app/730  2021-05-01   \n",
       "...                                  ...         ...   \n",
       "5266  https://steamcharts.com/app/435150  2016-12-01   \n",
       "5267  https://steamcharts.com/app/435150  2016-11-01   \n",
       "5268  https://steamcharts.com/app/435150  2016-10-01   \n",
       "5269  https://steamcharts.com/app/435150  2016-09-01   \n",
       "5270  https://steamcharts.com/app/435150  2016-08-01   \n",
       "\n",
       "                             Game_Name  \n",
       "0     Counter Strike: Global Offensive  \n",
       "1     Counter Strike: Global Offensive  \n",
       "2     Counter Strike: Global Offensive  \n",
       "3     Counter Strike: Global Offensive  \n",
       "4     Counter Strike: Global Offensive  \n",
       "...                                ...  \n",
       "5266          Divinity: Original Sin 2  \n",
       "5267          Divinity: Original Sin 2  \n",
       "5268          Divinity: Original Sin 2  \n",
       "5269          Divinity: Original Sin 2  \n",
       "5270          Divinity: Original Sin 2  \n",
       "\n",
       "[5271 rows x 8 columns]"
      ]
     },
     "execution_count": 1,
     "metadata": {},
     "output_type": "execute_result"
    }
   ],
   "source": [
    "import pandas as pd\n",
    "from matplotlib import pyplot as plt\n",
    "import seaborn as sb\n",
    "df = pd.read_csv('Valve_Player_Data.csv')\n",
    "df"
   ]
  },
  {
   "cell_type": "code",
   "execution_count": 2,
   "id": "dcc921f1",
   "metadata": {
    "scrolled": false
   },
   "outputs": [
    {
     "data": {
      "text/html": [
       "<div>\n",
       "<style scoped>\n",
       "    .dataframe tbody tr th:only-of-type {\n",
       "        vertical-align: middle;\n",
       "    }\n",
       "\n",
       "    .dataframe tbody tr th {\n",
       "        vertical-align: top;\n",
       "    }\n",
       "\n",
       "    .dataframe thead th {\n",
       "        text-align: right;\n",
       "    }\n",
       "</style>\n",
       "<table border=\"1\" class=\"dataframe\">\n",
       "  <thead>\n",
       "    <tr style=\"text-align: right;\">\n",
       "      <th></th>\n",
       "      <th>Month_Year</th>\n",
       "      <th>Avg_players</th>\n",
       "      <th>Gain</th>\n",
       "      <th>Percent_Gain</th>\n",
       "      <th>Peak_Players</th>\n",
       "      <th>URL</th>\n",
       "      <th>Date</th>\n",
       "      <th>Game_Name</th>\n",
       "    </tr>\n",
       "  </thead>\n",
       "  <tbody>\n",
       "    <tr>\n",
       "      <th>0</th>\n",
       "      <td>September 2021</td>\n",
       "      <td>512350.92</td>\n",
       "      <td>268.96</td>\n",
       "      <td>+0.05%</td>\n",
       "      <td>942519</td>\n",
       "      <td>https://steamcharts.com/app/730</td>\n",
       "      <td>2021-09-01</td>\n",
       "      <td>Counter Strike: Global Offensive</td>\n",
       "    </tr>\n",
       "    <tr>\n",
       "      <th>1</th>\n",
       "      <td>August 2021</td>\n",
       "      <td>512081.96</td>\n",
       "      <td>6014.60</td>\n",
       "      <td>+1.19%</td>\n",
       "      <td>802544</td>\n",
       "      <td>https://steamcharts.com/app/730</td>\n",
       "      <td>2021-08-01</td>\n",
       "      <td>Counter Strike: Global Offensive</td>\n",
       "    </tr>\n",
       "    <tr>\n",
       "      <th>2</th>\n",
       "      <td>July 2021</td>\n",
       "      <td>506067.36</td>\n",
       "      <td>-43279.72</td>\n",
       "      <td>-7.88%</td>\n",
       "      <td>763523</td>\n",
       "      <td>https://steamcharts.com/app/730</td>\n",
       "      <td>2021-07-01</td>\n",
       "      <td>Counter Strike: Global Offensive</td>\n",
       "    </tr>\n",
       "    <tr>\n",
       "      <th>3</th>\n",
       "      <td>June 2021</td>\n",
       "      <td>549347.08</td>\n",
       "      <td>-110541.81</td>\n",
       "      <td>-16.75%</td>\n",
       "      <td>929940</td>\n",
       "      <td>https://steamcharts.com/app/730</td>\n",
       "      <td>2021-06-01</td>\n",
       "      <td>Counter Strike: Global Offensive</td>\n",
       "    </tr>\n",
       "    <tr>\n",
       "      <th>4</th>\n",
       "      <td>May 2021</td>\n",
       "      <td>659888.89</td>\n",
       "      <td>-63457.63</td>\n",
       "      <td>-8.77%</td>\n",
       "      <td>1087197</td>\n",
       "      <td>https://steamcharts.com/app/730</td>\n",
       "      <td>2021-05-01</td>\n",
       "      <td>Counter Strike: Global Offensive</td>\n",
       "    </tr>\n",
       "    <tr>\n",
       "      <th>...</th>\n",
       "      <td>...</td>\n",
       "      <td>...</td>\n",
       "      <td>...</td>\n",
       "      <td>...</td>\n",
       "      <td>...</td>\n",
       "      <td>...</td>\n",
       "      <td>...</td>\n",
       "      <td>...</td>\n",
       "    </tr>\n",
       "    <tr>\n",
       "      <th>106</th>\n",
       "      <td>November 2012</td>\n",
       "      <td>14134.10</td>\n",
       "      <td>3394.62</td>\n",
       "      <td>+31.61%</td>\n",
       "      <td>50533</td>\n",
       "      <td>https://steamcharts.com/app/730</td>\n",
       "      <td>2012-11-01</td>\n",
       "      <td>Counter Strike: Global Offensive</td>\n",
       "    </tr>\n",
       "    <tr>\n",
       "      <th>107</th>\n",
       "      <td>October 2012</td>\n",
       "      <td>10739.48</td>\n",
       "      <td>-5261.27</td>\n",
       "      <td>-32.88%</td>\n",
       "      <td>20850</td>\n",
       "      <td>https://steamcharts.com/app/730</td>\n",
       "      <td>2012-10-01</td>\n",
       "      <td>Counter Strike: Global Offensive</td>\n",
       "    </tr>\n",
       "    <tr>\n",
       "      <th>108</th>\n",
       "      <td>September 2012</td>\n",
       "      <td>16000.75</td>\n",
       "      <td>525.36</td>\n",
       "      <td>+3.39%</td>\n",
       "      <td>36057</td>\n",
       "      <td>https://steamcharts.com/app/730</td>\n",
       "      <td>2012-09-01</td>\n",
       "      <td>Counter Strike: Global Offensive</td>\n",
       "    </tr>\n",
       "    <tr>\n",
       "      <th>109</th>\n",
       "      <td>August 2012</td>\n",
       "      <td>15475.39</td>\n",
       "      <td>14542.81</td>\n",
       "      <td>+1559.43%</td>\n",
       "      <td>52261</td>\n",
       "      <td>https://steamcharts.com/app/730</td>\n",
       "      <td>2012-08-01</td>\n",
       "      <td>Counter Strike: Global Offensive</td>\n",
       "    </tr>\n",
       "    <tr>\n",
       "      <th>110</th>\n",
       "      <td>July 2012</td>\n",
       "      <td>932.57</td>\n",
       "      <td>NaN</td>\n",
       "      <td>NaN</td>\n",
       "      <td>1642</td>\n",
       "      <td>https://steamcharts.com/app/730</td>\n",
       "      <td>2012-07-01</td>\n",
       "      <td>Counter Strike: Global Offensive</td>\n",
       "    </tr>\n",
       "  </tbody>\n",
       "</table>\n",
       "<p>111 rows × 8 columns</p>\n",
       "</div>"
      ],
      "text/plain": [
       "         Month_Year  Avg_players       Gain Percent_Gain  Peak_Players  \\\n",
       "0    September 2021    512350.92     268.96       +0.05%        942519   \n",
       "1       August 2021    512081.96    6014.60       +1.19%        802544   \n",
       "2         July 2021    506067.36  -43279.72       -7.88%        763523   \n",
       "3         June 2021    549347.08 -110541.81      -16.75%        929940   \n",
       "4          May 2021    659888.89  -63457.63       -8.77%       1087197   \n",
       "..              ...          ...        ...          ...           ...   \n",
       "106   November 2012     14134.10    3394.62      +31.61%         50533   \n",
       "107    October 2012     10739.48   -5261.27      -32.88%         20850   \n",
       "108  September 2012     16000.75     525.36       +3.39%         36057   \n",
       "109     August 2012     15475.39   14542.81    +1559.43%         52261   \n",
       "110       July 2012       932.57        NaN          NaN          1642   \n",
       "\n",
       "                                 URL        Date  \\\n",
       "0    https://steamcharts.com/app/730  2021-09-01   \n",
       "1    https://steamcharts.com/app/730  2021-08-01   \n",
       "2    https://steamcharts.com/app/730  2021-07-01   \n",
       "3    https://steamcharts.com/app/730  2021-06-01   \n",
       "4    https://steamcharts.com/app/730  2021-05-01   \n",
       "..                               ...         ...   \n",
       "106  https://steamcharts.com/app/730  2012-11-01   \n",
       "107  https://steamcharts.com/app/730  2012-10-01   \n",
       "108  https://steamcharts.com/app/730  2012-09-01   \n",
       "109  https://steamcharts.com/app/730  2012-08-01   \n",
       "110  https://steamcharts.com/app/730  2012-07-01   \n",
       "\n",
       "                            Game_Name  \n",
       "0    Counter Strike: Global Offensive  \n",
       "1    Counter Strike: Global Offensive  \n",
       "2    Counter Strike: Global Offensive  \n",
       "3    Counter Strike: Global Offensive  \n",
       "4    Counter Strike: Global Offensive  \n",
       "..                                ...  \n",
       "106  Counter Strike: Global Offensive  \n",
       "107  Counter Strike: Global Offensive  \n",
       "108  Counter Strike: Global Offensive  \n",
       "109  Counter Strike: Global Offensive  \n",
       "110  Counter Strike: Global Offensive  \n",
       "\n",
       "[111 rows x 8 columns]"
      ]
     },
     "execution_count": 2,
     "metadata": {},
     "output_type": "execute_result"
    }
   ],
   "source": [
    "csgo = df[df['Game_Name']=='Counter Strike: Global Offensive']\n",
    "csgo"
   ]
  },
  {
   "cell_type": "code",
   "execution_count": 3,
   "id": "97044b62",
   "metadata": {},
   "outputs": [
    {
     "data": {
      "text/html": [
       "<div>\n",
       "<style scoped>\n",
       "    .dataframe tbody tr th:only-of-type {\n",
       "        vertical-align: middle;\n",
       "    }\n",
       "\n",
       "    .dataframe tbody tr th {\n",
       "        vertical-align: top;\n",
       "    }\n",
       "\n",
       "    .dataframe thead th {\n",
       "        text-align: right;\n",
       "    }\n",
       "</style>\n",
       "<table border=\"1\" class=\"dataframe\">\n",
       "  <thead>\n",
       "    <tr style=\"text-align: right;\">\n",
       "      <th></th>\n",
       "      <th>Month_Year</th>\n",
       "      <th>Avg_players</th>\n",
       "      <th>Gain</th>\n",
       "      <th>Percent_Gain</th>\n",
       "      <th>Peak_Players</th>\n",
       "      <th>URL</th>\n",
       "      <th>Date</th>\n",
       "      <th>Game_Name</th>\n",
       "    </tr>\n",
       "  </thead>\n",
       "  <tbody>\n",
       "    <tr>\n",
       "      <th>277</th>\n",
       "      <td>September 2021</td>\n",
       "      <td>139647.96</td>\n",
       "      <td>-29880.22</td>\n",
       "      <td>-17.63%</td>\n",
       "      <td>273617</td>\n",
       "      <td>https://steamcharts.com/app/1172470</td>\n",
       "      <td>2021-09-01</td>\n",
       "      <td>Apex Legends</td>\n",
       "    </tr>\n",
       "    <tr>\n",
       "      <th>278</th>\n",
       "      <td>August 2021</td>\n",
       "      <td>169528.17</td>\n",
       "      <td>38377.10</td>\n",
       "      <td>+29.26%</td>\n",
       "      <td>330476</td>\n",
       "      <td>https://steamcharts.com/app/1172470</td>\n",
       "      <td>2021-08-01</td>\n",
       "      <td>Apex Legends</td>\n",
       "    </tr>\n",
       "    <tr>\n",
       "      <th>279</th>\n",
       "      <td>July 2021</td>\n",
       "      <td>131151.07</td>\n",
       "      <td>-5288.83</td>\n",
       "      <td>-3.88%</td>\n",
       "      <td>262129</td>\n",
       "      <td>https://steamcharts.com/app/1172470</td>\n",
       "      <td>2021-07-01</td>\n",
       "      <td>Apex Legends</td>\n",
       "    </tr>\n",
       "    <tr>\n",
       "      <th>280</th>\n",
       "      <td>June 2021</td>\n",
       "      <td>136439.90</td>\n",
       "      <td>-27798.11</td>\n",
       "      <td>-16.93%</td>\n",
       "      <td>266591</td>\n",
       "      <td>https://steamcharts.com/app/1172470</td>\n",
       "      <td>2021-06-01</td>\n",
       "      <td>Apex Legends</td>\n",
       "    </tr>\n",
       "    <tr>\n",
       "      <th>281</th>\n",
       "      <td>May 2021</td>\n",
       "      <td>164238.01</td>\n",
       "      <td>39332.88</td>\n",
       "      <td>+31.49%</td>\n",
       "      <td>330879</td>\n",
       "      <td>https://steamcharts.com/app/1172470</td>\n",
       "      <td>2021-05-01</td>\n",
       "      <td>Apex Legends</td>\n",
       "    </tr>\n",
       "    <tr>\n",
       "      <th>282</th>\n",
       "      <td>April 2021</td>\n",
       "      <td>124905.13</td>\n",
       "      <td>-1215.93</td>\n",
       "      <td>-0.96%</td>\n",
       "      <td>217728</td>\n",
       "      <td>https://steamcharts.com/app/1172470</td>\n",
       "      <td>2021-04-01</td>\n",
       "      <td>Apex Legends</td>\n",
       "    </tr>\n",
       "    <tr>\n",
       "      <th>283</th>\n",
       "      <td>March 2021</td>\n",
       "      <td>126121.06</td>\n",
       "      <td>5138.42</td>\n",
       "      <td>+4.25%</td>\n",
       "      <td>228439</td>\n",
       "      <td>https://steamcharts.com/app/1172470</td>\n",
       "      <td>2021-03-01</td>\n",
       "      <td>Apex Legends</td>\n",
       "    </tr>\n",
       "    <tr>\n",
       "      <th>284</th>\n",
       "      <td>February 2021</td>\n",
       "      <td>120982.64</td>\n",
       "      <td>49215.90</td>\n",
       "      <td>+68.58%</td>\n",
       "      <td>196799</td>\n",
       "      <td>https://steamcharts.com/app/1172470</td>\n",
       "      <td>2021-02-01</td>\n",
       "      <td>Apex Legends</td>\n",
       "    </tr>\n",
       "    <tr>\n",
       "      <th>285</th>\n",
       "      <td>January 2021</td>\n",
       "      <td>71766.74</td>\n",
       "      <td>7296.99</td>\n",
       "      <td>+11.32%</td>\n",
       "      <td>129928</td>\n",
       "      <td>https://steamcharts.com/app/1172470</td>\n",
       "      <td>2021-01-01</td>\n",
       "      <td>Apex Legends</td>\n",
       "    </tr>\n",
       "    <tr>\n",
       "      <th>286</th>\n",
       "      <td>December 2020</td>\n",
       "      <td>64469.75</td>\n",
       "      <td>-10487.50</td>\n",
       "      <td>-13.99%</td>\n",
       "      <td>112076</td>\n",
       "      <td>https://steamcharts.com/app/1172470</td>\n",
       "      <td>2020-12-01</td>\n",
       "      <td>Apex Legends</td>\n",
       "    </tr>\n",
       "    <tr>\n",
       "      <th>287</th>\n",
       "      <td>November 2020</td>\n",
       "      <td>74957.26</td>\n",
       "      <td>NaN</td>\n",
       "      <td>NaN</td>\n",
       "      <td>117193</td>\n",
       "      <td>https://steamcharts.com/app/1172470</td>\n",
       "      <td>2020-11-01</td>\n",
       "      <td>Apex Legends</td>\n",
       "    </tr>\n",
       "  </tbody>\n",
       "</table>\n",
       "</div>"
      ],
      "text/plain": [
       "         Month_Year  Avg_players      Gain Percent_Gain  Peak_Players  \\\n",
       "277  September 2021    139647.96 -29880.22      -17.63%        273617   \n",
       "278     August 2021    169528.17  38377.10      +29.26%        330476   \n",
       "279       July 2021    131151.07  -5288.83       -3.88%        262129   \n",
       "280       June 2021    136439.90 -27798.11      -16.93%        266591   \n",
       "281        May 2021    164238.01  39332.88      +31.49%        330879   \n",
       "282      April 2021    124905.13  -1215.93       -0.96%        217728   \n",
       "283      March 2021    126121.06   5138.42       +4.25%        228439   \n",
       "284   February 2021    120982.64  49215.90      +68.58%        196799   \n",
       "285    January 2021     71766.74   7296.99      +11.32%        129928   \n",
       "286   December 2020     64469.75 -10487.50      -13.99%        112076   \n",
       "287   November 2020     74957.26       NaN          NaN        117193   \n",
       "\n",
       "                                     URL        Date     Game_Name  \n",
       "277  https://steamcharts.com/app/1172470  2021-09-01  Apex Legends  \n",
       "278  https://steamcharts.com/app/1172470  2021-08-01  Apex Legends  \n",
       "279  https://steamcharts.com/app/1172470  2021-07-01  Apex Legends  \n",
       "280  https://steamcharts.com/app/1172470  2021-06-01  Apex Legends  \n",
       "281  https://steamcharts.com/app/1172470  2021-05-01  Apex Legends  \n",
       "282  https://steamcharts.com/app/1172470  2021-04-01  Apex Legends  \n",
       "283  https://steamcharts.com/app/1172470  2021-03-01  Apex Legends  \n",
       "284  https://steamcharts.com/app/1172470  2021-02-01  Apex Legends  \n",
       "285  https://steamcharts.com/app/1172470  2021-01-01  Apex Legends  \n",
       "286  https://steamcharts.com/app/1172470  2020-12-01  Apex Legends  \n",
       "287  https://steamcharts.com/app/1172470  2020-11-01  Apex Legends  "
      ]
     },
     "execution_count": 3,
     "metadata": {},
     "output_type": "execute_result"
    }
   ],
   "source": [
    "apex = df[df['Game_Name']=='Apex Legends']\n",
    "apex"
   ]
  },
  {
   "cell_type": "code",
   "execution_count": 4,
   "id": "f6425516",
   "metadata": {},
   "outputs": [
    {
     "data": {
      "text/html": [
       "<div>\n",
       "<style scoped>\n",
       "    .dataframe tbody tr th:only-of-type {\n",
       "        vertical-align: middle;\n",
       "    }\n",
       "\n",
       "    .dataframe tbody tr th {\n",
       "        vertical-align: top;\n",
       "    }\n",
       "\n",
       "    .dataframe thead th {\n",
       "        text-align: right;\n",
       "    }\n",
       "</style>\n",
       "<table border=\"1\" class=\"dataframe\">\n",
       "  <thead>\n",
       "    <tr style=\"text-align: right;\">\n",
       "      <th></th>\n",
       "      <th>Month_Year</th>\n",
       "      <th>Avg_players</th>\n",
       "      <th>Gain</th>\n",
       "      <th>Percent_Gain</th>\n",
       "      <th>Peak_Players</th>\n",
       "      <th>URL</th>\n",
       "      <th>Date</th>\n",
       "      <th>Game_Name</th>\n",
       "    </tr>\n",
       "  </thead>\n",
       "  <tbody>\n",
       "    <tr>\n",
       "      <th>764</th>\n",
       "      <td>September 2021</td>\n",
       "      <td>51139.69</td>\n",
       "      <td>1233.49</td>\n",
       "      <td>+2.47%</td>\n",
       "      <td>111554</td>\n",
       "      <td>https://steamcharts.com/app/359550</td>\n",
       "      <td>2021-09-01</td>\n",
       "      <td>Tom Clancy's Rainbow Six Seige</td>\n",
       "    </tr>\n",
       "    <tr>\n",
       "      <th>765</th>\n",
       "      <td>August 2021</td>\n",
       "      <td>49906.20</td>\n",
       "      <td>-3567.82</td>\n",
       "      <td>-6.67%</td>\n",
       "      <td>93643</td>\n",
       "      <td>https://steamcharts.com/app/359550</td>\n",
       "      <td>2021-08-01</td>\n",
       "      <td>Tom Clancy's Rainbow Six Seige</td>\n",
       "    </tr>\n",
       "    <tr>\n",
       "      <th>766</th>\n",
       "      <td>July 2021</td>\n",
       "      <td>53474.02</td>\n",
       "      <td>-1486.63</td>\n",
       "      <td>-2.70%</td>\n",
       "      <td>89513</td>\n",
       "      <td>https://steamcharts.com/app/359550</td>\n",
       "      <td>2021-07-01</td>\n",
       "      <td>Tom Clancy's Rainbow Six Seige</td>\n",
       "    </tr>\n",
       "    <tr>\n",
       "      <th>767</th>\n",
       "      <td>June 2021</td>\n",
       "      <td>54960.64</td>\n",
       "      <td>-3313.42</td>\n",
       "      <td>-5.69%</td>\n",
       "      <td>100214</td>\n",
       "      <td>https://steamcharts.com/app/359550</td>\n",
       "      <td>2021-06-01</td>\n",
       "      <td>Tom Clancy's Rainbow Six Seige</td>\n",
       "    </tr>\n",
       "    <tr>\n",
       "      <th>768</th>\n",
       "      <td>May 2021</td>\n",
       "      <td>58274.07</td>\n",
       "      <td>-16342.34</td>\n",
       "      <td>-21.90%</td>\n",
       "      <td>108281</td>\n",
       "      <td>https://steamcharts.com/app/359550</td>\n",
       "      <td>2021-05-01</td>\n",
       "      <td>Tom Clancy's Rainbow Six Seige</td>\n",
       "    </tr>\n",
       "    <tr>\n",
       "      <th>...</th>\n",
       "      <td>...</td>\n",
       "      <td>...</td>\n",
       "      <td>...</td>\n",
       "      <td>...</td>\n",
       "      <td>...</td>\n",
       "      <td>...</td>\n",
       "      <td>...</td>\n",
       "      <td>...</td>\n",
       "    </tr>\n",
       "    <tr>\n",
       "      <th>829</th>\n",
       "      <td>April 2016</td>\n",
       "      <td>7643.56</td>\n",
       "      <td>1518.10</td>\n",
       "      <td>+24.78%</td>\n",
       "      <td>29170</td>\n",
       "      <td>https://steamcharts.com/app/359550</td>\n",
       "      <td>2016-04-01</td>\n",
       "      <td>Tom Clancy's Rainbow Six Seige</td>\n",
       "    </tr>\n",
       "    <tr>\n",
       "      <th>830</th>\n",
       "      <td>March 2016</td>\n",
       "      <td>6125.46</td>\n",
       "      <td>-3138.02</td>\n",
       "      <td>-33.88%</td>\n",
       "      <td>11234</td>\n",
       "      <td>https://steamcharts.com/app/359550</td>\n",
       "      <td>2016-03-01</td>\n",
       "      <td>Tom Clancy's Rainbow Six Seige</td>\n",
       "    </tr>\n",
       "    <tr>\n",
       "      <th>831</th>\n",
       "      <td>February 2016</td>\n",
       "      <td>9263.47</td>\n",
       "      <td>-980.81</td>\n",
       "      <td>-9.57%</td>\n",
       "      <td>16044</td>\n",
       "      <td>https://steamcharts.com/app/359550</td>\n",
       "      <td>2016-02-01</td>\n",
       "      <td>Tom Clancy's Rainbow Six Seige</td>\n",
       "    </tr>\n",
       "    <tr>\n",
       "      <th>832</th>\n",
       "      <td>January 2016</td>\n",
       "      <td>10244.29</td>\n",
       "      <td>2302.84</td>\n",
       "      <td>+29.00%</td>\n",
       "      <td>20006</td>\n",
       "      <td>https://steamcharts.com/app/359550</td>\n",
       "      <td>2016-01-01</td>\n",
       "      <td>Tom Clancy's Rainbow Six Seige</td>\n",
       "    </tr>\n",
       "    <tr>\n",
       "      <th>833</th>\n",
       "      <td>December 2015</td>\n",
       "      <td>7941.45</td>\n",
       "      <td>NaN</td>\n",
       "      <td>NaN</td>\n",
       "      <td>18130</td>\n",
       "      <td>https://steamcharts.com/app/359550</td>\n",
       "      <td>2015-12-01</td>\n",
       "      <td>Tom Clancy's Rainbow Six Seige</td>\n",
       "    </tr>\n",
       "  </tbody>\n",
       "</table>\n",
       "<p>70 rows × 8 columns</p>\n",
       "</div>"
      ],
      "text/plain": [
       "         Month_Year  Avg_players      Gain Percent_Gain  Peak_Players  \\\n",
       "764  September 2021     51139.69   1233.49       +2.47%        111554   \n",
       "765     August 2021     49906.20  -3567.82       -6.67%         93643   \n",
       "766       July 2021     53474.02  -1486.63       -2.70%         89513   \n",
       "767       June 2021     54960.64  -3313.42       -5.69%        100214   \n",
       "768        May 2021     58274.07 -16342.34      -21.90%        108281   \n",
       "..              ...          ...       ...          ...           ...   \n",
       "829      April 2016      7643.56   1518.10      +24.78%         29170   \n",
       "830      March 2016      6125.46  -3138.02      -33.88%         11234   \n",
       "831   February 2016      9263.47   -980.81       -9.57%         16044   \n",
       "832    January 2016     10244.29   2302.84      +29.00%         20006   \n",
       "833   December 2015      7941.45       NaN          NaN         18130   \n",
       "\n",
       "                                    URL        Date  \\\n",
       "764  https://steamcharts.com/app/359550  2021-09-01   \n",
       "765  https://steamcharts.com/app/359550  2021-08-01   \n",
       "766  https://steamcharts.com/app/359550  2021-07-01   \n",
       "767  https://steamcharts.com/app/359550  2021-06-01   \n",
       "768  https://steamcharts.com/app/359550  2021-05-01   \n",
       "..                                  ...         ...   \n",
       "829  https://steamcharts.com/app/359550  2016-04-01   \n",
       "830  https://steamcharts.com/app/359550  2016-03-01   \n",
       "831  https://steamcharts.com/app/359550  2016-02-01   \n",
       "832  https://steamcharts.com/app/359550  2016-01-01   \n",
       "833  https://steamcharts.com/app/359550  2015-12-01   \n",
       "\n",
       "                          Game_Name  \n",
       "764  Tom Clancy's Rainbow Six Seige  \n",
       "765  Tom Clancy's Rainbow Six Seige  \n",
       "766  Tom Clancy's Rainbow Six Seige  \n",
       "767  Tom Clancy's Rainbow Six Seige  \n",
       "768  Tom Clancy's Rainbow Six Seige  \n",
       "..                              ...  \n",
       "829  Tom Clancy's Rainbow Six Seige  \n",
       "830  Tom Clancy's Rainbow Six Seige  \n",
       "831  Tom Clancy's Rainbow Six Seige  \n",
       "832  Tom Clancy's Rainbow Six Seige  \n",
       "833  Tom Clancy's Rainbow Six Seige  \n",
       "\n",
       "[70 rows x 8 columns]"
      ]
     },
     "execution_count": 4,
     "metadata": {},
     "output_type": "execute_result"
    }
   ],
   "source": [
    "r6 = df[df['Game_Name']==\"Tom Clancy's Rainbow Six Seige\"]\n",
    "r6"
   ]
  },
  {
   "cell_type": "code",
   "execution_count": 5,
   "id": "a7b91702",
   "metadata": {
    "scrolled": false
   },
   "outputs": [
    {
     "name": "stdout",
     "output_type": "stream",
     "text": [
      "<class 'pandas.core.frame.DataFrame'>\n",
      "RangeIndex: 5271 entries, 0 to 5270\n",
      "Data columns (total 8 columns):\n",
      " #   Column        Non-Null Count  Dtype  \n",
      "---  ------        --------------  -----  \n",
      " 0   Month_Year    5271 non-null   object \n",
      " 1   Avg_players   5271 non-null   float64\n",
      " 2   Gain          5173 non-null   float64\n",
      " 3   Percent_Gain  5173 non-null   object \n",
      " 4   Peak_Players  5271 non-null   int64  \n",
      " 5   URL           5271 non-null   object \n",
      " 6   Date          5271 non-null   object \n",
      " 7   Game_Name     5271 non-null   object \n",
      "dtypes: float64(2), int64(1), object(5)\n",
      "memory usage: 329.6+ KB\n"
     ]
    }
   ],
   "source": [
    "df.info()"
   ]
  },
  {
   "cell_type": "code",
   "execution_count": 6,
   "id": "3ccd970b",
   "metadata": {},
   "outputs": [
    {
     "data": {
      "image/png": "[encoded data removed]",
      "text/plain": [
       "<Figure size 432x288 with 1 Axes>"
      ]
     },
     "metadata": {},
     "output_type": "display_data"
    }
   ],
   "source": [
    "sb.set_theme(style=\"whitegrid\")\n",
    "ax = sb.boxplot(x=csgo['Avg_players'])"
   ]
  },
  {
   "cell_type": "code",
   "execution_count": 7,
   "id": "1efa740c",
   "metadata": {},
   "outputs": [
    {
     "data": {
      "image/png": "[encoded data removed]",
      "text/plain": [
       "<Figure size 432x288 with 1 Axes>"
      ]
     },
     "metadata": {},
     "output_type": "display_data"
    }
   ],
   "source": [
    "sb.set_theme(style=\"whitegrid\")\n",
    "ax = sb.boxplot(x=csgo['Gain'])"
   ]
  },
  {
   "cell_type": "code",
   "execution_count": 8,
   "id": "dc7149b5",
   "metadata": {},
   "outputs": [
    {
     "data": {
      "image/png": "[encoded data removed]",
      "text/plain": [
       "<Figure size 432x288 with 1 Axes>"
      ]
     },
     "metadata": {},
     "output_type": "display_data"
    }
   ],
   "source": [
    "sb.set_theme(style=\"whitegrid\")\n",
    "ax = sb.boxplot(x=csgo['Peak_Players'])"
   ]
  },
  {
   "cell_type": "code",
   "execution_count": 9,
   "id": "013db08d",
   "metadata": {},
   "outputs": [
    {
     "data": {
      "image/png": "[encoded data removed]",
      "text/plain": [
       "<Figure size 432x288 with 1 Axes>"
      ]
     },
     "metadata": {},
     "output_type": "display_data"
    }
   ],
   "source": [
    "sb.set_theme(style=\"whitegrid\")\n",
    "ax = sb.boxplot(x=apex['Avg_players'])"
   ]
  },
  {
   "cell_type": "code",
   "execution_count": 10,
   "id": "b37306e5",
   "metadata": {},
   "outputs": [
    {
     "data": {
      "image/png": "[encoded data removed]",
      "text/plain": [
       "<Figure size 432x288 with 1 Axes>"
      ]
     },
     "metadata": {},
     "output_type": "display_data"
    }
   ],
   "source": [
    "sb.set_theme(style=\"whitegrid\")\n",
    "ax = sb.boxplot(x=apex['Gain'])"
   ]
  },
  {
   "cell_type": "code",
   "execution_count": 11,
   "id": "d0f7cf41",
   "metadata": {},
   "outputs": [
    {
     "data": {
      "image/png": "[encoded data removed]",
      "text/plain": [
       "<Figure size 432x288 with 1 Axes>"
      ]
     },
     "metadata": {},
     "output_type": "display_data"
    }
   ],
   "source": [
    "sb.set_theme(style=\"whitegrid\")\n",
    "ax = sb.boxplot(x=apex['Peak_Players'])"
   ]
  },
  {
   "cell_type": "code",
   "execution_count": 12,
   "id": "2f1c10c4",
   "metadata": {},
   "outputs": [
    {
     "data": {
      "image/png": "[encoded data removed]",
      "text/plain": [
       "<Figure size 432x288 with 1 Axes>"
      ]
     },
     "metadata": {},
     "output_type": "display_data"
    }
   ],
   "source": [
    "sb.set_theme(style=\"whitegrid\")\n",
    "ax = sb.boxplot(x=r6['Avg_players'])"
   ]
  },
  {
   "cell_type": "code",
   "execution_count": 13,
   "id": "d3cbd0aa",
   "metadata": {},
   "outputs": [
    {
     "data": {
      "image/png": "[encoded data removed]",
      "text/plain": [
       "<Figure size 432x288 with 1 Axes>"
      ]
     },
     "metadata": {},
     "output_type": "display_data"
    }
   ],
   "source": [
    "sb.set_theme(style=\"whitegrid\")\n",
    "ax = sb.boxplot(x=r6['Gain'])"
   ]
  },
  {
   "cell_type": "code",
   "execution_count": 14,
   "id": "dff771af",
   "metadata": {},
   "outputs": [
    {
     "data": {
      "image/png": "[encoded data removed]",
      "text/plain": [
       "<Figure size 432x288 with 1 Axes>"
      ]
     },
     "metadata": {},
     "output_type": "display_data"
    }
   ],
   "source": [
    "sb.set_theme(style=\"whitegrid\")\n",
    "ax = sb.boxplot(x=r6['Peak_Players'])"
   ]
  },
  {
   "cell_type": "code",
   "execution_count": 15,
   "id": "8f9dff04",
   "metadata": {},
   "outputs": [
    {
     "data": {
      "text/html": [
       "<div>\n",
       "<style scoped>\n",
       "    .dataframe tbody tr th:only-of-type {\n",
       "        vertical-align: middle;\n",
       "    }\n",
       "\n",
       "    .dataframe tbody tr th {\n",
       "        vertical-align: top;\n",
       "    }\n",
       "\n",
       "    .dataframe thead th {\n",
       "        text-align: right;\n",
       "    }\n",
       "</style>\n",
       "<table border=\"1\" class=\"dataframe\">\n",
       "  <thead>\n",
       "    <tr style=\"text-align: right;\">\n",
       "      <th></th>\n",
       "      <th>Avg_players</th>\n",
       "      <th>Gain</th>\n",
       "      <th>Peak_Players</th>\n",
       "    </tr>\n",
       "  </thead>\n",
       "  <tbody>\n",
       "    <tr>\n",
       "      <th>0</th>\n",
       "      <td>512350.92</td>\n",
       "      <td>268.96</td>\n",
       "      <td>942519</td>\n",
       "    </tr>\n",
       "    <tr>\n",
       "      <th>1</th>\n",
       "      <td>512081.96</td>\n",
       "      <td>6014.60</td>\n",
       "      <td>802544</td>\n",
       "    </tr>\n",
       "    <tr>\n",
       "      <th>2</th>\n",
       "      <td>506067.36</td>\n",
       "      <td>-43279.72</td>\n",
       "      <td>763523</td>\n",
       "    </tr>\n",
       "    <tr>\n",
       "      <th>3</th>\n",
       "      <td>549347.08</td>\n",
       "      <td>-110541.81</td>\n",
       "      <td>929940</td>\n",
       "    </tr>\n",
       "    <tr>\n",
       "      <th>4</th>\n",
       "      <td>659888.89</td>\n",
       "      <td>-63457.63</td>\n",
       "      <td>1087197</td>\n",
       "    </tr>\n",
       "    <tr>\n",
       "      <th>...</th>\n",
       "      <td>...</td>\n",
       "      <td>...</td>\n",
       "      <td>...</td>\n",
       "    </tr>\n",
       "    <tr>\n",
       "      <th>106</th>\n",
       "      <td>14134.10</td>\n",
       "      <td>3394.62</td>\n",
       "      <td>50533</td>\n",
       "    </tr>\n",
       "    <tr>\n",
       "      <th>107</th>\n",
       "      <td>10739.48</td>\n",
       "      <td>-5261.27</td>\n",
       "      <td>20850</td>\n",
       "    </tr>\n",
       "    <tr>\n",
       "      <th>108</th>\n",
       "      <td>16000.75</td>\n",
       "      <td>525.36</td>\n",
       "      <td>36057</td>\n",
       "    </tr>\n",
       "    <tr>\n",
       "      <th>109</th>\n",
       "      <td>15475.39</td>\n",
       "      <td>14542.81</td>\n",
       "      <td>52261</td>\n",
       "    </tr>\n",
       "    <tr>\n",
       "      <th>110</th>\n",
       "      <td>932.57</td>\n",
       "      <td>NaN</td>\n",
       "      <td>1642</td>\n",
       "    </tr>\n",
       "  </tbody>\n",
       "</table>\n",
       "<p>111 rows × 3 columns</p>\n",
       "</div>"
      ],
      "text/plain": [
       "     Avg_players       Gain  Peak_Players\n",
       "0      512350.92     268.96        942519\n",
       "1      512081.96    6014.60        802544\n",
       "2      506067.36  -43279.72        763523\n",
       "3      549347.08 -110541.81        929940\n",
       "4      659888.89  -63457.63       1087197\n",
       "..           ...        ...           ...\n",
       "106     14134.10    3394.62         50533\n",
       "107     10739.48   -5261.27         20850\n",
       "108     16000.75     525.36         36057\n",
       "109     15475.39   14542.81         52261\n",
       "110       932.57        NaN          1642\n",
       "\n",
       "[111 rows x 3 columns]"
      ]
     },
     "execution_count": 15,
     "metadata": {},
     "output_type": "execute_result"
    }
   ],
   "source": [
    "tempcs = csgo[['Avg_players','Gain','Peak_Players']]\n",
    "tempcs"
   ]
  },
  {
   "cell_type": "code",
   "execution_count": 16,
   "id": "89e738f0",
   "metadata": {},
   "outputs": [
    {
     "data": {
      "text/html": [
       "<div>\n",
       "<style scoped>\n",
       "    .dataframe tbody tr th:only-of-type {\n",
       "        vertical-align: middle;\n",
       "    }\n",
       "\n",
       "    .dataframe tbody tr th {\n",
       "        vertical-align: top;\n",
       "    }\n",
       "\n",
       "    .dataframe thead th {\n",
       "        text-align: right;\n",
       "    }\n",
       "</style>\n",
       "<table border=\"1\" class=\"dataframe\">\n",
       "  <thead>\n",
       "    <tr style=\"text-align: right;\">\n",
       "      <th></th>\n",
       "      <th>Avg_players</th>\n",
       "      <th>Gain</th>\n",
       "      <th>Peak_Players</th>\n",
       "    </tr>\n",
       "  </thead>\n",
       "  <tbody>\n",
       "    <tr>\n",
       "      <th>277</th>\n",
       "      <td>139647.96</td>\n",
       "      <td>-29880.22</td>\n",
       "      <td>273617</td>\n",
       "    </tr>\n",
       "    <tr>\n",
       "      <th>278</th>\n",
       "      <td>169528.17</td>\n",
       "      <td>38377.10</td>\n",
       "      <td>330476</td>\n",
       "    </tr>\n",
       "    <tr>\n",
       "      <th>279</th>\n",
       "      <td>131151.07</td>\n",
       "      <td>-5288.83</td>\n",
       "      <td>262129</td>\n",
       "    </tr>\n",
       "    <tr>\n",
       "      <th>280</th>\n",
       "      <td>136439.90</td>\n",
       "      <td>-27798.11</td>\n",
       "      <td>266591</td>\n",
       "    </tr>\n",
       "    <tr>\n",
       "      <th>281</th>\n",
       "      <td>164238.01</td>\n",
       "      <td>39332.88</td>\n",
       "      <td>330879</td>\n",
       "    </tr>\n",
       "    <tr>\n",
       "      <th>282</th>\n",
       "      <td>124905.13</td>\n",
       "      <td>-1215.93</td>\n",
       "      <td>217728</td>\n",
       "    </tr>\n",
       "    <tr>\n",
       "      <th>283</th>\n",
       "      <td>126121.06</td>\n",
       "      <td>5138.42</td>\n",
       "      <td>228439</td>\n",
       "    </tr>\n",
       "    <tr>\n",
       "      <th>284</th>\n",
       "      <td>120982.64</td>\n",
       "      <td>49215.90</td>\n",
       "      <td>196799</td>\n",
       "    </tr>\n",
       "    <tr>\n",
       "      <th>285</th>\n",
       "      <td>71766.74</td>\n",
       "      <td>7296.99</td>\n",
       "      <td>129928</td>\n",
       "    </tr>\n",
       "    <tr>\n",
       "      <th>286</th>\n",
       "      <td>64469.75</td>\n",
       "      <td>-10487.50</td>\n",
       "      <td>112076</td>\n",
       "    </tr>\n",
       "    <tr>\n",
       "      <th>287</th>\n",
       "      <td>74957.26</td>\n",
       "      <td>NaN</td>\n",
       "      <td>117193</td>\n",
       "    </tr>\n",
       "  </tbody>\n",
       "</table>\n",
       "</div>"
      ],
      "text/plain": [
       "     Avg_players      Gain  Peak_Players\n",
       "277    139647.96 -29880.22        273617\n",
       "278    169528.17  38377.10        330476\n",
       "279    131151.07  -5288.83        262129\n",
       "280    136439.90 -27798.11        266591\n",
       "281    164238.01  39332.88        330879\n",
       "282    124905.13  -1215.93        217728\n",
       "283    126121.06   5138.42        228439\n",
       "284    120982.64  49215.90        196799\n",
       "285     71766.74   7296.99        129928\n",
       "286     64469.75 -10487.50        112076\n",
       "287     74957.26       NaN        117193"
      ]
     },
     "execution_count": 16,
     "metadata": {},
     "output_type": "execute_result"
    }
   ],
   "source": [
    "tempap = apex[['Avg_players','Gain','Peak_Players']]\n",
    "tempap"
   ]
  },
  {
   "cell_type": "code",
   "execution_count": 17,
   "id": "ef32d992",
   "metadata": {},
   "outputs": [
    {
     "data": {
      "text/html": [
       "<div>\n",
       "<style scoped>\n",
       "    .dataframe tbody tr th:only-of-type {\n",
       "        vertical-align: middle;\n",
       "    }\n",
       "\n",
       "    .dataframe tbody tr th {\n",
       "        vertical-align: top;\n",
       "    }\n",
       "\n",
       "    .dataframe thead th {\n",
       "        text-align: right;\n",
       "    }\n",
       "</style>\n",
       "<table border=\"1\" class=\"dataframe\">\n",
       "  <thead>\n",
       "    <tr style=\"text-align: right;\">\n",
       "      <th></th>\n",
       "      <th>Avg_players</th>\n",
       "      <th>Gain</th>\n",
       "      <th>Peak_Players</th>\n",
       "    </tr>\n",
       "  </thead>\n",
       "  <tbody>\n",
       "    <tr>\n",
       "      <th>764</th>\n",
       "      <td>51139.69</td>\n",
       "      <td>1233.49</td>\n",
       "      <td>111554</td>\n",
       "    </tr>\n",
       "    <tr>\n",
       "      <th>765</th>\n",
       "      <td>49906.20</td>\n",
       "      <td>-3567.82</td>\n",
       "      <td>93643</td>\n",
       "    </tr>\n",
       "    <tr>\n",
       "      <th>766</th>\n",
       "      <td>53474.02</td>\n",
       "      <td>-1486.63</td>\n",
       "      <td>89513</td>\n",
       "    </tr>\n",
       "    <tr>\n",
       "      <th>767</th>\n",
       "      <td>54960.64</td>\n",
       "      <td>-3313.42</td>\n",
       "      <td>100214</td>\n",
       "    </tr>\n",
       "    <tr>\n",
       "      <th>768</th>\n",
       "      <td>58274.07</td>\n",
       "      <td>-16342.34</td>\n",
       "      <td>108281</td>\n",
       "    </tr>\n",
       "    <tr>\n",
       "      <th>...</th>\n",
       "      <td>...</td>\n",
       "      <td>...</td>\n",
       "      <td>...</td>\n",
       "    </tr>\n",
       "    <tr>\n",
       "      <th>829</th>\n",
       "      <td>7643.56</td>\n",
       "      <td>1518.10</td>\n",
       "      <td>29170</td>\n",
       "    </tr>\n",
       "    <tr>\n",
       "      <th>830</th>\n",
       "      <td>6125.46</td>\n",
       "      <td>-3138.02</td>\n",
       "      <td>11234</td>\n",
       "    </tr>\n",
       "    <tr>\n",
       "      <th>831</th>\n",
       "      <td>9263.47</td>\n",
       "      <td>-980.81</td>\n",
       "      <td>16044</td>\n",
       "    </tr>\n",
       "    <tr>\n",
       "      <th>832</th>\n",
       "      <td>10244.29</td>\n",
       "      <td>2302.84</td>\n",
       "      <td>20006</td>\n",
       "    </tr>\n",
       "    <tr>\n",
       "      <th>833</th>\n",
       "      <td>7941.45</td>\n",
       "      <td>NaN</td>\n",
       "      <td>18130</td>\n",
       "    </tr>\n",
       "  </tbody>\n",
       "</table>\n",
       "<p>70 rows × 3 columns</p>\n",
       "</div>"
      ],
      "text/plain": [
       "     Avg_players      Gain  Peak_Players\n",
       "764     51139.69   1233.49        111554\n",
       "765     49906.20  -3567.82         93643\n",
       "766     53474.02  -1486.63         89513\n",
       "767     54960.64  -3313.42        100214\n",
       "768     58274.07 -16342.34        108281\n",
       "..           ...       ...           ...\n",
       "829      7643.56   1518.10         29170\n",
       "830      6125.46  -3138.02         11234\n",
       "831      9263.47   -980.81         16044\n",
       "832     10244.29   2302.84         20006\n",
       "833      7941.45       NaN         18130\n",
       "\n",
       "[70 rows x 3 columns]"
      ]
     },
     "execution_count": 17,
     "metadata": {},
     "output_type": "execute_result"
    }
   ],
   "source": [
    "tempr = r6[['Avg_players','Gain','Peak_Players']]\n",
    "tempr"
   ]
  },
  {
   "cell_type": "code",
   "execution_count": 18,
   "id": "5ca2e8e5",
   "metadata": {},
   "outputs": [
    {
     "data": {
      "image/png": "[encoded data removed]",
      "text/plain": [
       "<Figure size 360x360 with 1 Axes>"
      ]
     },
     "metadata": {},
     "output_type": "display_data"
    }
   ],
   "source": [
    "plt.figure(figsize=(5,5))\n",
    "csgo['Avg_players'].hist()\n",
    "plt.show()"
   ]
  },
  {
   "cell_type": "code",
   "execution_count": 19,
   "id": "b04193bc",
   "metadata": {},
   "outputs": [
    {
     "name": "stdout",
     "output_type": "stream",
     "text": [
      "Maximo: 857604.22\n",
      "Minimo: 932.57\n"
     ]
    }
   ],
   "source": [
    "column = csgo[\"Avg_players\"]\n",
    "print('Maximo:', column.max())\n",
    "print('Minimo:', column.min())"
   ]
  },
  {
   "cell_type": "code",
   "execution_count": 20,
   "id": "7ceefef1",
   "metadata": {},
   "outputs": [
    {
     "data": {
      "image/png": "[encoded data removed]",
      "text/plain": [
       "<Figure size 360x360 with 1 Axes>"
      ]
     },
     "metadata": {},
     "output_type": "display_data"
    }
   ],
   "source": [
    "plt.figure(figsize=(5,5))\n",
    "csgo['Gain'].hist()\n",
    "plt.show()"
   ]
  },
  {
   "cell_type": "code",
   "execution_count": 21,
   "id": "beab9381",
   "metadata": {},
   "outputs": [
    {
     "name": "stdout",
     "output_type": "stream",
     "text": [
      "Maximo: 186570.94\n",
      "Minimo: -110541.81\n"
     ]
    }
   ],
   "source": [
    "column = csgo[\"Gain\"]\n",
    "print('Maximo:', column.max())\n",
    "print('Minimo:', column.min())"
   ]
  },
  {
   "cell_type": "code",
   "execution_count": 22,
   "id": "feb7e41b",
   "metadata": {},
   "outputs": [
    {
     "data": {
      "image/png": "[encoded data removed]",
      "text/plain": [
       "<Figure size 360x360 with 1 Axes>"
      ]
     },
     "metadata": {},
     "output_type": "display_data"
    }
   ],
   "source": [
    "plt.figure(figsize=(5,5))\n",
    "csgo['Peak_Players'].hist()\n",
    "plt.show()"
   ]
  },
  {
   "cell_type": "code",
   "execution_count": 23,
   "id": "3d7f07b1",
   "metadata": {},
   "outputs": [
    {
     "name": "stdout",
     "output_type": "stream",
     "text": [
      "Maximo: 1305714\n",
      "Minimo: 1642\n"
     ]
    }
   ],
   "source": [
    "column = csgo[\"Peak_Players\"]\n",
    "print('Maximo:', column.max())\n",
    "print('Minimo:', column.min())"
   ]
  },
  {
   "cell_type": "code",
   "execution_count": 24,
   "id": "b0e235e0",
   "metadata": {},
   "outputs": [
    {
     "data": {
      "image/png": "[encoded data removed]",
      "text/plain": [
       "<Figure size 360x360 with 1 Axes>"
      ]
     },
     "metadata": {},
     "output_type": "display_data"
    }
   ],
   "source": [
    "plt.figure(figsize=(5,5))\n",
    "apex['Avg_players'].hist()\n",
    "plt.show()"
   ]
  },
  {
   "cell_type": "code",
   "execution_count": 25,
   "id": "0f7ea342",
   "metadata": {},
   "outputs": [
    {
     "name": "stdout",
     "output_type": "stream",
     "text": [
      "Maximo: 169528.17\n",
      "Minimo: 64469.75\n"
     ]
    }
   ],
   "source": [
    "column = apex[\"Avg_players\"]\n",
    "print('Maximo:', column.max())\n",
    "print('Minimo:', column.min())"
   ]
  },
  {
   "cell_type": "code",
   "execution_count": 26,
   "id": "5b02be40",
   "metadata": {},
   "outputs": [
    {
     "data": {
      "image/png": "[encoded data removed]",
      "text/plain": [
       "<Figure size 360x360 with 1 Axes>"
      ]
     },
     "metadata": {},
     "output_type": "display_data"
    }
   ],
   "source": [
    "plt.figure(figsize=(5,5))\n",
    "apex['Gain'].hist()\n",
    "plt.show()"
   ]
  },
  {
   "cell_type": "code",
   "execution_count": 27,
   "id": "dadc5571",
   "metadata": {},
   "outputs": [
    {
     "name": "stdout",
     "output_type": "stream",
     "text": [
      "Maximo: 49215.9\n",
      "Minimo: -29880.22\n"
     ]
    }
   ],
   "source": [
    "column = apex[\"Gain\"]\n",
    "print('Maximo:', column.max())\n",
    "print('Minimo:', column.min())"
   ]
  },
  {
   "cell_type": "code",
   "execution_count": 28,
   "id": "7052ce83",
   "metadata": {},
   "outputs": [
    {
     "data": {
      "image/png": "[encoded data removed]",
      "text/plain": [
       "<Figure size 360x360 with 1 Axes>"
      ]
     },
     "metadata": {},
     "output_type": "display_data"
    }
   ],
   "source": [
    "plt.figure(figsize=(5,5))\n",
    "apex['Peak_Players'].hist()\n",
    "plt.show()"
   ]
  },
  {
   "cell_type": "code",
   "execution_count": 29,
   "id": "9b8e5fd0",
   "metadata": {},
   "outputs": [
    {
     "name": "stdout",
     "output_type": "stream",
     "text": [
      "Maximo: 330879\n",
      "Minimo: 112076\n"
     ]
    }
   ],
   "source": [
    "column = apex[\"Peak_Players\"]\n",
    "print('Maximo:', column.max())\n",
    "print('Minimo:', column.min())"
   ]
  },
  {
   "cell_type": "code",
   "execution_count": 30,
   "id": "05d4645c",
   "metadata": {},
   "outputs": [
    {
     "data": {
      "image/png": "[encoded data removed]",
      "text/plain": [
       "<Figure size 360x360 with 1 Axes>"
      ]
     },
     "metadata": {},
     "output_type": "display_data"
    }
   ],
   "source": [
    "plt.figure(figsize=(5,5))\n",
    "r6['Avg_players'].hist()\n",
    "plt.show()"
   ]
  },
  {
   "cell_type": "code",
   "execution_count": 31,
   "id": "81eb2e44",
   "metadata": {},
   "outputs": [
    {
     "name": "stdout",
     "output_type": "stream",
     "text": [
      "Maximo: 119877.88\n",
      "Minimo: 6125.46\n"
     ]
    }
   ],
   "source": [
    "column = r6[\"Avg_players\"]\n",
    "print('Maximo:', column.max())\n",
    "print('Minimo:', column.min())"
   ]
  },
  {
   "cell_type": "code",
   "execution_count": 32,
   "id": "9bac200a",
   "metadata": {},
   "outputs": [
    {
     "data": {
      "image/png": "[encoded data removed]",
      "text/plain": [
       "<Figure size 360x360 with 1 Axes>"
      ]
     },
     "metadata": {},
     "output_type": "display_data"
    }
   ],
   "source": [
    "plt.figure(figsize=(5,5))\n",
    "r6['Gain'].hist()\n",
    "plt.show()"
   ]
  },
  {
   "cell_type": "code",
   "execution_count": 33,
   "id": "6ce06206",
   "metadata": {},
   "outputs": [
    {
     "name": "stdout",
     "output_type": "stream",
     "text": [
      "Maximo: 22210.54\n",
      "Minimo: -28415.26\n"
     ]
    }
   ],
   "source": [
    "column = r6[\"Gain\"]\n",
    "print('Maximo:', column.max())\n",
    "print('Minimo:', column.min())"
   ]
  },
  {
   "cell_type": "code",
   "execution_count": 34,
   "id": "6663203e",
   "metadata": {},
   "outputs": [
    {
     "data": {
      "image/png": "[encoded data removed]",
      "text/plain": [
       "<Figure size 360x360 with 1 Axes>"
      ]
     },
     "metadata": {},
     "output_type": "display_data"
    }
   ],
   "source": [
    "plt.figure(figsize=(5,5))\n",
    "r6['Peak_Players'].hist()\n",
    "plt.show()"
   ]
  },
  {
   "cell_type": "code",
   "execution_count": 35,
   "id": "9fcdfde3",
   "metadata": {},
   "outputs": [
    {
     "name": "stdout",
     "output_type": "stream",
     "text": [
      "Maximo: 199830\n",
      "Minimo: 11234\n"
     ]
    }
   ],
   "source": [
    "column = r6[\"Peak_Players\"]\n",
    "print('Maximo:', column.max())\n",
    "print('Minimo:', column.min())"
   ]
  },
  {
   "cell_type": "code",
   "execution_count": 36,
   "id": "5d034e52",
   "metadata": {
    "scrolled": false
   },
   "outputs": [
    {
     "data": {
      "image/png": "[encoded data removed]",
      "text/plain": [
       "<Figure size 864x864 with 2 Axes>"
      ]
     },
     "metadata": {},
     "output_type": "display_data"
    }
   ],
   "source": [
    "colormap = plt.cm.viridis\n",
    "plt.figure(figsize=(12,12))\n",
    "plt.title('CS GO heatmap', y=1.05, size=15)\n",
    "sb.heatmap(tempcs.astype(float).corr(), linewidths=0.1, vmax=1.0, square=True, \n",
    "           cmap=colormap, linecolor='white', annot=True);"
   ]
  },
  {
   "cell_type": "code",
   "execution_count": 37,
   "id": "f2816f2a",
   "metadata": {},
   "outputs": [
    {
     "data": {
      "image/png": "[encoded data removed]",
      "text/plain": [
       "<Figure size 864x864 with 2 Axes>"
      ]
     },
     "metadata": {},
     "output_type": "display_data"
    }
   ],
   "source": [
    "colormap = plt.cm.viridis\n",
    "plt.figure(figsize=(12,12))\n",
    "plt.title('Apex Legends heatmap', y=1.05, size=15)\n",
    "sb.heatmap(tempap.astype(float).corr(), linewidths=0.1, vmax=1.0, square=True, \n",
    "           cmap=colormap, linecolor='white', annot=True);"
   ]
  },
  {
   "cell_type": "code",
   "execution_count": 38,
   "id": "436f5e43",
   "metadata": {},
   "outputs": [
    {
     "data": {
      "image/png": "[encoded data removed]",
      "text/plain": [
       "<Figure size 864x864 with 2 Axes>"
      ]
     },
     "metadata": {},
     "output_type": "display_data"
    }
   ],
   "source": [
    "colormap = plt.cm.viridis\n",
    "plt.figure(figsize=(12,12))\n",
    "plt.title('Rainbow Six Siege heatmap', y=1.05, size=15)\n",
    "sb.heatmap(tempr.astype(float).corr(), linewidths=0.1, vmax=1.0, square=True, \n",
    "           cmap=colormap, linecolor='white', annot=True);"
   ]
  },
  {
   "cell_type": "code",
   "execution_count": 39,
   "id": "3b96f4df",
   "metadata": {},
   "outputs": [
    {
     "data": {
      "image/png": "[encoded data removed]",
      "text/plain": [
       "<Figure size 432x288 with 2 Axes>"
      ]
     },
     "metadata": {},
     "output_type": "display_data"
    }
   ],
   "source": [
    "ax = sb.heatmap(tempcs, center=2)"
   ]
  },
  {
   "cell_type": "code",
   "execution_count": 40,
   "id": "cb1f023b",
   "metadata": {},
   "outputs": [
    {
     "data": {
      "image/png": "[encoded data removed]",
      "text/plain": [
       "<Figure size 432x288 with 2 Axes>"
      ]
     },
     "metadata": {},
     "output_type": "display_data"
    }
   ],
   "source": [
    "ax = sb.heatmap(tempap, center=2)"
   ]
  },
  {
   "cell_type": "code",
   "execution_count": 41,
   "id": "a776405f",
   "metadata": {},
   "outputs": [
    {
     "data": {
      "image/png": "[encoded data removed]",
      "text/plain": [
       "<Figure size 432x288 with 2 Axes>"
      ]
     },
     "metadata": {},
     "output_type": "display_data"
    }
   ],
   "source": [
    "ax = sb.heatmap(tempr, center=2)"
   ]
  },
  {
   "cell_type": "code",
   "execution_count": null,
   "id": "a8e753d9",
   "metadata": {},
   "outputs": [],
   "source": []
  }
 ],
 "metadata": {
  "kernelspec": {
   "display_name": "Python 3",
   "language": "python",
   "name": "python3"
  },
  "language_info": {
   "codemirror_mode": {
    "name": "ipython",
    "version": 3
   },
   "file_extension": ".py",
   "mimetype": "text/x-python",
   "name": "python",
   "nbconvert_exporter": "python",
   "pygments_lexer": "ipython3",
   "version": "3.8.8"
  }
 },
 "nbformat": 4,
 "nbformat_minor": 5
}
