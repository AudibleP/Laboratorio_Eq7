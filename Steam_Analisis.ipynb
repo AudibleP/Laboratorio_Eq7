{
 "cells": [
  {
   "cell_type": "code",
   "execution_count": 1,
   "id": "b4179479",
   "metadata": {
    "scrolled": false
   },
   "outputs": [
    {
     "data": {
      "text/html": [
       "<div>\n",
       "<style scoped>\n",
       "    .dataframe tbody tr th:only-of-type {\n",
       "        vertical-align: middle;\n",
       "    }\n",
       "\n",
       "    .dataframe tbody tr th {\n",
       "        vertical-align: top;\n",
       "    }\n",
       "\n",
       "    .dataframe thead th {\n",
       "        text-align: right;\n",
       "    }\n",
       "</style>\n",
       "<table border=\"1\" class=\"dataframe\">\n",
       "  <thead>\n",
       "    <tr style=\"text-align: right;\">\n",
       "      <th></th>\n",
       "      <th>Month_Year</th>\n",
       "      <th>Avg_players</th>\n",
       "      <th>Gain</th>\n",
       "      <th>Percent_Gain</th>\n",
       "      <th>Peak_Players</th>\n",
       "      <th>URL</th>\n",
       "      <th>Date</th>\n",
       "      <th>Game_Name</th>\n",
       "    </tr>\n",
       "  </thead>\n",
       "  <tbody>\n",
       "    <tr>\n",
       "      <th>0</th>\n",
       "      <td>September 2021</td>\n",
       "      <td>512350.92</td>\n",
       "      <td>268.96</td>\n",
       "      <td>+0.05%</td>\n",
       "      <td>942519</td>\n",
       "      <td>https://steamcharts.com/app/730</td>\n",
       "      <td>2021-09-01</td>\n",
       "      <td>Counter Strike: Global Offensive</td>\n",
       "    </tr>\n",
       "    <tr>\n",
       "      <th>1</th>\n",
       "      <td>August 2021</td>\n",
       "      <td>512081.96</td>\n",
       "      <td>6014.60</td>\n",
       "      <td>+1.19%</td>\n",
       "      <td>802544</td>\n",
       "      <td>https://steamcharts.com/app/730</td>\n",
       "      <td>2021-08-01</td>\n",
       "      <td>Counter Strike: Global Offensive</td>\n",
       "    </tr>\n",
       "    <tr>\n",
       "      <th>2</th>\n",
       "      <td>July 2021</td>\n",
       "      <td>506067.36</td>\n",
       "      <td>-43279.72</td>\n",
       "      <td>-7.88%</td>\n",
       "      <td>763523</td>\n",
       "      <td>https://steamcharts.com/app/730</td>\n",
       "      <td>2021-07-01</td>\n",
       "      <td>Counter Strike: Global Offensive</td>\n",
       "    </tr>\n",
       "    <tr>\n",
       "      <th>3</th>\n",
       "      <td>June 2021</td>\n",
       "      <td>549347.08</td>\n",
       "      <td>-110541.81</td>\n",
       "      <td>-16.75%</td>\n",
       "      <td>929940</td>\n",
       "      <td>https://steamcharts.com/app/730</td>\n",
       "      <td>2021-06-01</td>\n",
       "      <td>Counter Strike: Global Offensive</td>\n",
       "    </tr>\n",
       "    <tr>\n",
       "      <th>4</th>\n",
       "      <td>May 2021</td>\n",
       "      <td>659888.89</td>\n",
       "      <td>-63457.63</td>\n",
       "      <td>-8.77%</td>\n",
       "      <td>1087197</td>\n",
       "      <td>https://steamcharts.com/app/730</td>\n",
       "      <td>2021-05-01</td>\n",
       "      <td>Counter Strike: Global Offensive</td>\n",
       "    </tr>\n",
       "    <tr>\n",
       "      <th>...</th>\n",
       "      <td>...</td>\n",
       "      <td>...</td>\n",
       "      <td>...</td>\n",
       "      <td>...</td>\n",
       "      <td>...</td>\n",
       "      <td>...</td>\n",
       "      <td>...</td>\n",
       "      <td>...</td>\n",
       "    </tr>\n",
       "    <tr>\n",
       "      <th>5266</th>\n",
       "      <td>December 2016</td>\n",
       "      <td>192.03</td>\n",
       "      <td>-21.90</td>\n",
       "      <td>-10.24%</td>\n",
       "      <td>405</td>\n",
       "      <td>https://steamcharts.com/app/435150</td>\n",
       "      <td>2016-12-01</td>\n",
       "      <td>Divinity: Original Sin 2</td>\n",
       "    </tr>\n",
       "    <tr>\n",
       "      <th>5267</th>\n",
       "      <td>November 2016</td>\n",
       "      <td>213.92</td>\n",
       "      <td>-134.68</td>\n",
       "      <td>-38.63%</td>\n",
       "      <td>537</td>\n",
       "      <td>https://steamcharts.com/app/435150</td>\n",
       "      <td>2016-11-01</td>\n",
       "      <td>Divinity: Original Sin 2</td>\n",
       "    </tr>\n",
       "    <tr>\n",
       "      <th>5268</th>\n",
       "      <td>October 2016</td>\n",
       "      <td>348.60</td>\n",
       "      <td>-201.75</td>\n",
       "      <td>-36.66%</td>\n",
       "      <td>1031</td>\n",
       "      <td>https://steamcharts.com/app/435150</td>\n",
       "      <td>2016-10-01</td>\n",
       "      <td>Divinity: Original Sin 2</td>\n",
       "    </tr>\n",
       "    <tr>\n",
       "      <th>5269</th>\n",
       "      <td>September 2016</td>\n",
       "      <td>550.36</td>\n",
       "      <td>543.26</td>\n",
       "      <td>+7654.89%</td>\n",
       "      <td>2836</td>\n",
       "      <td>https://steamcharts.com/app/435150</td>\n",
       "      <td>2016-09-01</td>\n",
       "      <td>Divinity: Original Sin 2</td>\n",
       "    </tr>\n",
       "    <tr>\n",
       "      <th>5270</th>\n",
       "      <td>August 2016</td>\n",
       "      <td>7.10</td>\n",
       "      <td>NaN</td>\n",
       "      <td>NaN</td>\n",
       "      <td>18</td>\n",
       "      <td>https://steamcharts.com/app/435150</td>\n",
       "      <td>2016-08-01</td>\n",
       "      <td>Divinity: Original Sin 2</td>\n",
       "    </tr>\n",
       "  </tbody>\n",
       "</table>\n",
       "<p>5271 rows × 8 columns</p>\n",
       "</div>"
      ],
      "text/plain": [
       "          Month_Year  Avg_players       Gain Percent_Gain  Peak_Players  \\\n",
       "0     September 2021    512350.92     268.96       +0.05%        942519   \n",
       "1        August 2021    512081.96    6014.60       +1.19%        802544   \n",
       "2          July 2021    506067.36  -43279.72       -7.88%        763523   \n",
       "3          June 2021    549347.08 -110541.81      -16.75%        929940   \n",
       "4           May 2021    659888.89  -63457.63       -8.77%       1087197   \n",
       "...              ...          ...        ...          ...           ...   \n",
       "5266   December 2016       192.03     -21.90      -10.24%           405   \n",
       "5267   November 2016       213.92    -134.68      -38.63%           537   \n",
       "5268    October 2016       348.60    -201.75      -36.66%          1031   \n",
       "5269  September 2016       550.36     543.26    +7654.89%          2836   \n",
       "5270     August 2016         7.10        NaN          NaN            18   \n",
       "\n",
       "                                     URL        Date  \\\n",
       "0        https://steamcharts.com/app/730  2021-09-01   \n",
       "1        https://steamcharts.com/app/730  2021-08-01   \n",
       "2        https://steamcharts.com/app/730  2021-07-01   \n",
       "3        https://steamcharts.com/app/730  2021-06-01   \n",
       "4        https://steamcharts.com/app/730  2021-05-01   \n",
       "...                                  ...         ...   \n",
       "5266  https://steamcharts.com/app/435150  2016-12-01   \n",
       "5267  https://steamcharts.com/app/435150  2016-11-01   \n",
       "5268  https://steamcharts.com/app/435150  2016-10-01   \n",
       "5269  https://steamcharts.com/app/435150  2016-09-01   \n",
       "5270  https://steamcharts.com/app/435150  2016-08-01   \n",
       "\n",
       "                             Game_Name  \n",
       "0     Counter Strike: Global Offensive  \n",
       "1     Counter Strike: Global Offensive  \n",
       "2     Counter Strike: Global Offensive  \n",
       "3     Counter Strike: Global Offensive  \n",
       "4     Counter Strike: Global Offensive  \n",
       "...                                ...  \n",
       "5266          Divinity: Original Sin 2  \n",
       "5267          Divinity: Original Sin 2  \n",
       "5268          Divinity: Original Sin 2  \n",
       "5269          Divinity: Original Sin 2  \n",
       "5270          Divinity: Original Sin 2  \n",
       "\n",
       "[5271 rows x 8 columns]"
      ]
     },
     "execution_count": 1,
     "metadata": {},
     "output_type": "execute_result"
    }
   ],
   "source": [
    "import pandas as pd\n",
    "df = pd.read_csv('Valve_Player_Data.csv')\n",
    "df"
   ]
  },
  {
   "cell_type": "code",
   "execution_count": 2,
   "id": "5f5e7f02",
   "metadata": {},
   "outputs": [
    {
     "data": {
      "text/plain": [
       "5271"
      ]
     },
     "execution_count": 2,
     "metadata": {},
     "output_type": "execute_result"
    }
   ],
   "source": [
    "len(df)"
   ]
  },
  {
   "cell_type": "code",
   "execution_count": 6,
   "id": "27441150",
   "metadata": {},
   "outputs": [
    {
     "data": {
      "text/plain": [
       "Month_Year      5271\n",
       "Avg_players     5271\n",
       "Gain            5173\n",
       "Percent_Gain    5173\n",
       "Peak_Players    5271\n",
       "URL             5271\n",
       "Date            5271\n",
       "Game_Name       5271\n",
       "dtype: int64"
      ]
     },
     "execution_count": 6,
     "metadata": {},
     "output_type": "execute_result"
    }
   ],
   "source": [
    "df.count()"
   ]
  },
  {
   "cell_type": "code",
   "execution_count": 5,
   "id": "33deb654",
   "metadata": {},
   "outputs": [
    {
     "name": "stdout",
     "output_type": "stream",
     "text": [
      "<class 'pandas.core.frame.DataFrame'>\n",
      "RangeIndex: 5271 entries, 0 to 5270\n",
      "Data columns (total 8 columns):\n",
      " #   Column        Non-Null Count  Dtype  \n",
      "---  ------        --------------  -----  \n",
      " 0   Month_Year    5271 non-null   object \n",
      " 1   Avg_players   5271 non-null   float64\n",
      " 2   Gain          5173 non-null   float64\n",
      " 3   Percent_Gain  5173 non-null   object \n",
      " 4   Peak_Players  5271 non-null   int64  \n",
      " 5   URL           5271 non-null   object \n",
      " 6   Date          5271 non-null   object \n",
      " 7   Game_Name     5271 non-null   object \n",
      "dtypes: float64(2), int64(1), object(5)\n",
      "memory usage: 329.6+ KB\n"
     ]
    }
   ],
   "source": [
    "df.info()"
   ]
  },
  {
   "cell_type": "code",
   "execution_count": 8,
   "id": "ae8d837b",
   "metadata": {},
   "outputs": [
    {
     "name": "stdout",
     "output_type": "stream",
     "text": [
      "Media:  37631.4925668752\n"
     ]
    }
   ],
   "source": [
    "print('Media: ', df['Avg_players'].mean())"
   ]
  },
  {
   "cell_type": "code",
   "execution_count": 9,
   "id": "61ca2064",
   "metadata": {},
   "outputs": [
    {
     "name": "stdout",
     "output_type": "stream",
     "text": [
      "Media:  92.07178619756469\n"
     ]
    }
   ],
   "source": [
    "print('Media: ', df['Gain'].mean())"
   ]
  },
  {
   "cell_type": "code",
   "execution_count": 10,
   "id": "8118c946",
   "metadata": {},
   "outputs": [
    {
     "name": "stdout",
     "output_type": "stream",
     "text": [
      "Media:  70320.71902864732\n"
     ]
    }
   ],
   "source": [
    "print('Media: ', df['Peak_Players'].mean())"
   ]
  },
  {
   "cell_type": "code",
   "execution_count": 11,
   "id": "64c54289",
   "metadata": {},
   "outputs": [
    {
     "name": "stdout",
     "output_type": "stream",
     "text": [
      "Mediana: 12358.4\n"
     ]
    }
   ],
   "source": [
    "print('Mediana:', df['Avg_players'].median())"
   ]
  },
  {
   "cell_type": "code",
   "execution_count": 12,
   "id": "3c61c2ef",
   "metadata": {},
   "outputs": [
    {
     "name": "stdout",
     "output_type": "stream",
     "text": [
      "Mediana: -0.08\n"
     ]
    }
   ],
   "source": [
    "print('Mediana:', df['Gain'].median())"
   ]
  },
  {
   "cell_type": "code",
   "execution_count": 13,
   "id": "be243ce6",
   "metadata": {},
   "outputs": [
    {
     "name": "stdout",
     "output_type": "stream",
     "text": [
      "Mediana: 23447.0\n"
     ]
    }
   ],
   "source": [
    "print('Mediana:', df['Peak_Players'].median())"
   ]
  },
  {
   "cell_type": "code",
   "execution_count": 14,
   "id": "c11683de",
   "metadata": {},
   "outputs": [
    {
     "name": "stdout",
     "output_type": "stream",
     "text": [
      "Desviación estándar:  103295.05532921592\n"
     ]
    }
   ],
   "source": [
    "print('Desviación estándar: ', df['Avg_players'].std())"
   ]
  },
  {
   "cell_type": "code",
   "execution_count": 15,
   "id": "ac417ac3",
   "metadata": {},
   "outputs": [
    {
     "name": "stdout",
     "output_type": "stream",
     "text": [
      "Desviación estándar:  15161.864515374084\n"
     ]
    }
   ],
   "source": [
    "print('Desviación estándar: ', df['Gain'].std())"
   ]
  },
  {
   "cell_type": "code",
   "execution_count": 16,
   "id": "bacf2c8e",
   "metadata": {},
   "outputs": [
    {
     "name": "stdout",
     "output_type": "stream",
     "text": [
      "Desviación estándar:  194194.81984406416\n"
     ]
    }
   ],
   "source": [
    "print('Desviación estándar: ', df['Peak_Players'].std())"
   ]
  },
  {
   "cell_type": "code",
   "execution_count": null,
   "id": "5e93a8f5",
   "metadata": {},
   "outputs": [],
   "source": []
  }
 ],
 "metadata": {
  "kernelspec": {
   "display_name": "Python 3",
   "language": "python",
   "name": "python3"
  },
  "language_info": {
   "codemirror_mode": {
    "name": "ipython",
    "version": 3
   },
   "file_extension": ".py",
   "mimetype": "text/x-python",
   "name": "python",
   "nbconvert_exporter": "python",
   "pygments_lexer": "ipython3",
   "version": "3.8.8"
  }
 },
 "nbformat": 4,
 "nbformat_minor": 5
}
